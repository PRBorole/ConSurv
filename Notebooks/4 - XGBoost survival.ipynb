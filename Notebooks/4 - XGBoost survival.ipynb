{
 "cells": [
  {
   "cell_type": "code",
   "execution_count": 1,
   "id": "2fe7c058-ce9a-4e9c-9fbc-b78a73a8e8c2",
   "metadata": {},
   "outputs": [],
   "source": [
    "import numpy as np\n",
    "import pandas as pd\n",
    "from sklearn.model_selection import train_test_split, ShuffleSplit\n",
    "from sklearn.metrics import accuracy_score, balanced_accuracy_score, f1_score, precision_recall_curve, roc_curve, auc\n",
    "from sklearn.metrics import make_scorer, roc_auc_score\n",
    "from sklearn.metrics import matthews_corrcoef\n",
    "from sklearn.preprocessing import LabelEncoder\n",
    "\n",
    "from sklearn.preprocessing import LabelBinarizer\n",
    "from sklearn.preprocessing import MinMaxScaler\n",
    "\n",
    "import matplotlib.pyplot as plt \n",
    "import seaborn as sns\n",
    "\n",
    "import time \n",
    "import sys \n",
    "import os\n",
    "from tqdm import tqdm\n",
    "import itertools\n",
    "import json\n",
    "import pickle\n",
    "\n",
    "import xgboost as xgb\n",
    "from xgboost import plot_tree\n",
    "import lifelines\n",
    "\n",
    "sys.path.append('./../src/')\n",
    "from utils import *\n",
    "from utils_xgboost import *"
   ]
  },
  {
   "cell_type": "markdown",
   "id": "910eed1c-534c-4c47-87d6-5aa07a321f9c",
   "metadata": {},
   "source": [
    "# Best parameter"
   ]
  },
  {
   "cell_type": "code",
   "execution_count": 2,
   "id": "67f9a367-d3c3-4c45-acd5-ed8afb5d4cb6",
   "metadata": {},
   "outputs": [],
   "source": [
    "params = {'verbosity': 0,\n",
    "              'objective': 'survival:aft',\n",
    "              'eval_metric': 'aft-nloglik',\n",
    "              'tree_method': 'hist',\n",
    "              'learning_rate': 0.01,\n",
    "              'aft_loss_distribution': 'logistic',\n",
    "              'aft_loss_distribution_scale': 1.2,\n",
    "              'max_depth': 10,\n",
    "              'lambda': 0.01,\n",
    "              'alpha': 0.1}\n",
    "\n",
    "\n",
    "num_boost_round = 500\n",
    "test_size=0.3\n",
    "seeds = [999, 7, 42, 1995, 1303, 2405, 1996, 200, 0, 777]"
   ]
  },
  {
   "cell_type": "code",
   "execution_count": 3,
   "id": "86b90148-fa4b-4bdd-bea1-47c08cc3ab9e",
   "metadata": {
    "scrolled": true
   },
   "outputs": [
    {
     "name": "stderr",
     "output_type": "stream",
     "text": [
      "100%|█████████████████████████████████████████████████████████████████████████████████████████████████████████████████████████████████████████████████████████████████████████| 1/1 [01:02<00:00, 62.68s/it]\n"
     ]
    }
   ],
   "source": [
    "# dataset\n",
    "data_df = pd.read_csv('./../Data/breast_cancer/1000_features_survival_3classes.csv',\n",
    "                      index_col=0).drop(['index'],axis=1)\n",
    "\n",
    "data_df_event_time = data_df[['event', 'time']]\n",
    "\n",
    "\n",
    "data_df = pd.get_dummies(data_df.drop(['event', 'time'], axis=1),dtype=int)\n",
    "scaler = MinMaxScaler()\n",
    "data_df = pd.DataFrame(scaler.fit_transform(data_df), columns=data_df.columns)\n",
    "data_df['event'] = [int(e) for e in data_df_event_time['event']]\n",
    "data_df['time'] = data_df_event_time['time']\n",
    "\n",
    "data_df = data_df.fillna(data_df.mean())\n",
    "\n",
    "val_ls = []\n",
    "test_ls = []\n",
    "elapsed_time_ls = []\n",
    "\n",
    "for seed in tqdm(seeds):\n",
    "    data_train, data_tmp = train_test_split(data_df, test_size=test_size, random_state=seed)\n",
    "    data_val, data_test = train_test_split(data_tmp, test_size=test_size, random_state=seed)\n",
    "    \n",
    "    X_train = data_train.drop(['event', 'time','y'], axis=1)\n",
    "    y_lower_train = data_train['time']\n",
    "    y_upper_train = np.array([t if e else np.inf for t,e in zip(data_train['time'], data_train['event'])])\n",
    "    dtrain = xgb.DMatrix(X_train.values)\n",
    "    dtrain.set_float_info('label_lower_bound', y_lower_train)\n",
    "    dtrain.set_float_info('label_upper_bound', y_upper_train)\n",
    "    \n",
    "    X_val = data_val.drop(['event', 'time','y'], axis=1)\n",
    "    y_lower_val = data_val['time']\n",
    "    y_upper_val = np.array([t if e else np.inf for t,e in zip(data_val['time'], data_val['event'])])\n",
    "    dvalid = xgb.DMatrix(X_val.values)\n",
    "    dvalid.set_float_info('label_lower_bound', y_lower_val)\n",
    "    dvalid.set_float_info('label_upper_bound', y_upper_val)\n",
    "    \n",
    "    X_test = data_test.drop(['event', 'time','y'], axis=1)\n",
    "    # X_test = pd.get_dummies(X_test, dtype=int)\n",
    "    y_lower_test = data_test['time']\n",
    "    y_upper_test = np.array([t if e else np.inf for t,e in zip(data_test['time'], data_test['event'])])\n",
    "    dtest = xgb.DMatrix(X_test.values)\n",
    "    dtest.set_float_info('label_lower_bound', y_lower_test)\n",
    "    dtest.set_float_info('label_upper_bound', y_upper_test)\n",
    "    \n",
    "    start = time.time()\n",
    "    bst = xgb.train(params, dtrain, num_boost_round=num_boost_round,\n",
    "                    evals=[(dtrain, 'train'), (dvalid, 'valid')],\n",
    "                    early_stopping_rounds=50, verbose_eval=False)\n",
    "    end = time.time()\n",
    "    elapsed_time_ls = elapsed_time_ls + [end-start]\n",
    "    \n",
    "    # Run prediction on the validation set\n",
    "    df = pd.DataFrame({'Label (lower bound)': y_lower_val,\n",
    "                       'Label (upper bound)': y_upper_val,\n",
    "                       'Predicted label': bst.predict(dvalid)})\n",
    "    \n",
    "    val_ls = val_ls + [lifelines.utils.concordance_index(event_times = data_val['time'], \n",
    "                                      predicted_scores = df['Predicted label'], \n",
    "                                      event_observed = data_val['event'])]\n",
    "    \n",
    "    # Run prediction on the validation set\n",
    "    df = pd.DataFrame({'Label (lower bound)': y_lower_test,\n",
    "                       'Label (upper bound)': y_upper_test,\n",
    "                       'Predicted label': bst.predict(dtest)})\n",
    "    \n",
    "    \n",
    "    test_ls = test_ls + [lifelines.utils.concordance_index(event_times = data_test['time'], \n",
    "                                      predicted_scores = df['Predicted label'], \n",
    "                                      event_observed = data_test['event'])]\n"
   ]
  },
  {
   "cell_type": "code",
   "execution_count": 9,
   "id": "70b759ca-15d8-4e1c-8d85-1d7c3a17e531",
   "metadata": {},
   "outputs": [
    {
     "name": "stdout",
     "output_type": "stream",
     "text": [
      "Valid: 0.7217400400588532 Test: 0.6987346872424727 Elapsed time: 56.54037404060364\n"
     ]
    },
    {
     "data": {
      "text/plain": [
       "([0.7405298341173557,\n",
       "  0.7283249617820485,\n",
       "  0.6840081429540827,\n",
       "  0.7060506050605061,\n",
       "  0.6753731343283582,\n",
       "  0.7619270346117867,\n",
       "  0.7119680225723019,\n",
       "  0.7765814266487214,\n",
       "  0.747538831765478,\n",
       "  0.6850984067478912],\n",
       " [0.7337526205450734,\n",
       "  0.7516425755584757,\n",
       "  0.6550724637681159,\n",
       "  0.6197836166924265,\n",
       "  0.6818181818181818,\n",
       "  0.8142589118198874,\n",
       "  0.6375,\n",
       "  0.8690364826941066,\n",
       "  0.6941176470588235,\n",
       "  0.5303643724696356],\n",
       " [53.92562985420227,\n",
       "  55.571752071380615,\n",
       "  60.55286741256714,\n",
       "  53.668174505233765,\n",
       "  55.136093616485596,\n",
       "  53.71381735801697,\n",
       "  60.97635793685913,\n",
       "  58.58614492416382,\n",
       "  55.26191329956055,\n",
       "  58.01098942756653])"
      ]
     },
     "execution_count": 9,
     "metadata": {},
     "output_type": "execute_result"
    }
   ],
   "source": [
    "print(\"Valid:\",np.mean(val_ls), \"Test:\",np.mean(test_ls), \"Elapsed time:\", np.mean(elapsed_time_ls))\n",
    "val_ls, test_ls, elapsed_time_ls\n"
   ]
  },
  {
   "cell_type": "code",
   "execution_count": null,
   "id": "89d2a3cd-59cd-4d94-ade2-273edf21ca2b",
   "metadata": {},
   "outputs": [],
   "source": []
  }
 ],
 "metadata": {
  "kernelspec": {
   "display_name": "Python 3 (ipykernel)",
   "language": "python",
   "name": "python3"
  },
  "language_info": {
   "codemirror_mode": {
    "name": "ipython",
    "version": 3
   },
   "file_extension": ".py",
   "mimetype": "text/x-python",
   "name": "python",
   "nbconvert_exporter": "python",
   "pygments_lexer": "ipython3",
   "version": "3.9.19"
  }
 },
 "nbformat": 4,
 "nbformat_minor": 5
}

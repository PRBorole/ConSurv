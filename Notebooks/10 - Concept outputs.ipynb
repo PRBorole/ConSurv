{
 "cells": [
  {
   "cell_type": "code",
   "execution_count": 1,
   "id": "2dfb1a46-ed62-4193-8f75-467671f6cded",
   "metadata": {},
   "outputs": [],
   "source": [
    "# import libraries\n",
    "import pandas as pd\n",
    "import matplotlib.pyplot as plt\n",
    "import numpy as np\n",
    "import time\n",
    "import sys\n",
    "import json\n",
    "import pickle\n",
    "import json\n",
    "from ast import literal_eval\n",
    "\n",
    "from tqdm import tqdm\n",
    "import itertools\n",
    "\n",
    "from sklearn.preprocessing import MultiLabelBinarizer, LabelBinarizer\n",
    "from sklearn.model_selection import train_test_split\n",
    "from sklearn.preprocessing import OrdinalEncoder, LabelEncoder\n",
    "from sklearn import metrics\n",
    "from sklearn.preprocessing import MinMaxScaler\n",
    "\n",
    "from sklearn.metrics import accuracy_score, balanced_accuracy_score, f1_score, precision_recall_curve, roc_curve, auc\n",
    "from sklearn.metrics import make_scorer, roc_auc_score\n",
    "\n",
    "from torchsurv.loss import cox\n",
    "from lifelines.utils import concordance_index\n",
    "\n",
    "sys.path.append('./../src/')\n",
    "from utils import *\n",
    "from utils_XGBMLP import *\n",
    "\n",
    "import torch\n",
    "import torch.nn as nn\n",
    "import torch.optim as optim\n",
    "from torch.utils.data import DataLoader, Dataset, TensorDataset\n"
   ]
  },
  {
   "cell_type": "markdown",
   "id": "6f5366f5-7440-41f4-baf6-9b6856c5f6c7",
   "metadata": {},
   "source": [
    "# In this notebook we obtain output of top 5 concepts for a run with seed 999\n",
    "\n",
    "We use these outputs to calculate KM plots in Figure <>\n"
   ]
  },
  {
   "cell_type": "markdown",
   "id": "0bb56153-c520-4fd8-8ff1-6d452364851f",
   "metadata": {},
   "source": [
    "### XGBoost derived concepts"
   ]
  },
  {
   "cell_type": "code",
   "execution_count": 2,
   "id": "50d538df-c2fa-482b-906b-6a04c8fd4e3f",
   "metadata": {},
   "outputs": [
    {
     "name": "stdout",
     "output_type": "stream",
     "text": [
      "*******************\n",
      "999\n"
     ]
    },
    {
     "name": "stderr",
     "output_type": "stream",
     "text": [
      "/tmp/ipykernel_3954144/900378735.py:32: FutureWarning: You are using `torch.load` with `weights_only=False` (the current default value), which uses the default pickle module implicitly. It is possible to construct malicious pickle data which will execute arbitrary code during unpickling (See https://github.com/pytorch/pytorch/blob/main/SECURITY.md#untrusted-models for more details). In a future release, the default value for `weights_only` will be flipped to `True`. This limits the functions that could be executed during unpickling. Arbitrary objects will no longer be allowed to be loaded via this mode unless they are explicitly allowlisted by the user via `torch.serialization.add_safe_globals`. We recommend you start setting `weights_only=True` for any use case where you don't have full control of the loaded file. Please open an issue on GitHub for any issues related to this experimental feature.\n",
      "  model = torch.load('./../models/XGBMLP/ntopfeatures/XGBMLP_top'+str(100)+'_seed'+str(seed)+'.pt')\n"
     ]
    }
   ],
   "source": [
    "# Dataset\n",
    "torch.manual_seed(0)\n",
    "\n",
    "data_df = pd.read_csv('./../Data/1000_features_survival_3classes.csv',index_col=0).drop(['index', 'y'],axis=1)\n",
    "data_df_event_time = data_df[['event', 'time']]\n",
    "\n",
    "\n",
    "data_df = pd.get_dummies(data_df.drop(['event', 'time'], axis=1),dtype='int')\n",
    "scaler = MinMaxScaler()\n",
    "data_df = pd.DataFrame(scaler.fit_transform(data_df), columns=data_df.columns)\n",
    "data_df['event'] = [int(e) for e in data_df_event_time['event']]\n",
    "data_df['time'] = data_df_event_time['time']\n",
    "\n",
    "data_df = data_df.fillna(data_df.mean())\n",
    "\n",
    "\n",
    "train_ci_ls = []\n",
    "valid_ci_ls = []\n",
    "test_ci_ls = []\n",
    "epoch_ls = []\n",
    "elapsed_time_ls = []\n",
    "nconcepts_ls = []\n",
    "\n",
    "seeds = [999]\n",
    "test_size = 0.3\n",
    "batch_size = 64\n",
    "\n",
    "\n",
    "for seed in seeds:\n",
    "    print(\"*******************\")\n",
    "    print(seed)\n",
    "\n",
    "    model = torch.load('./../models/XGBMLP/ntopfeatures/XGBMLP_top100_seed'+str(seed)+'.pt')\n",
    "    model.eval()\n",
    "        \n",
    "\n",
    "    X = torch.tensor(data_df.drop(['event', 'time'], axis=1).to_numpy(), dtype=torch.float32)\n",
    "    e = data_df['event'].to_numpy()\n",
    "    t = data_df['time'].to_numpy()\n",
    "\n",
    "    with open('./../models/XGBMLP/ntopfeatures/concept_weights_top100_seed'+str(seed)+'.pkl','rb') as f:\n",
    "        dict_to_save = pickle.load(f)\n",
    "    f.close()\n",
    "    \n",
    "    concepts_weights_df = pd.DataFrame(dict_to_save)\n",
    "    concepts_weights_df['abs_weights'] = [np.abs(i) for i in concepts_weights_df['weights']]\n",
    "    concepts_weights_df['concepts'] = ['concept'+str(i) for i in range(len(concepts_weights_df))]\n",
    "    concepts_weights_df = concepts_weights_df.sort_values('abs_weights',ascending=False)\n",
    "    \n",
    "    feature_groups = concepts_weights_df.sort_values('abs_weights', ascending=False)['feature_groups_idx'].iloc[:5].to_list()\n",
    "            "
   ]
  },
  {
   "cell_type": "code",
   "execution_count": 4,
   "id": "5fa359b4-6dd5-4456-8d53-ac2a5fdc5fef",
   "metadata": {},
   "outputs": [
    {
     "data": {
      "text/plain": [
       "[1, 3, 2, 4, 0]"
      ]
     },
     "execution_count": 4,
     "metadata": {},
     "output_type": "execute_result"
    }
   ],
   "source": [
    "concept_output, concept_fidx_ls = get_concept_layers_output(model, X, feature_groups)\n",
    "concept_output = concept_output.tolist()\n",
    "concept_fidx_ls"
   ]
  },
  {
   "cell_type": "code",
   "execution_count": 5,
   "id": "209f80d6-c932-4805-b7b0-683521220a6f",
   "metadata": {},
   "outputs": [],
   "source": [
    "ConSurv_XGB_df  = pd.DataFrame(concept_output, columns=['c'+str(i) for i in concept_fidx_ls])\n",
    "ConSurv_XGB_df['event'] = e\n",
    "ConSurv_XGB_df['time'] = t\n",
    "ConSurv_XGB_df.to_csv('./../results/Top5_Concept_op_consurvxgb_top100.csv')"
   ]
  },
  {
   "cell_type": "markdown",
   "id": "99aa67ec-5c76-48a5-ba09-919a71b9e143",
   "metadata": {},
   "source": [
    "### Rule"
   ]
  },
  {
   "cell_type": "code",
   "execution_count": 6,
   "id": "e7374224-d9af-4d89-8c31-eb00af0fdb41",
   "metadata": {},
   "outputs": [
    {
     "name": "stdout",
     "output_type": "stream",
     "text": [
      "*******************\n",
      "999\n"
     ]
    },
    {
     "name": "stderr",
     "output_type": "stream",
     "text": [
      "/tmp/ipykernel_3954144/1626410091.py:32: FutureWarning: You are using `torch.load` with `weights_only=False` (the current default value), which uses the default pickle module implicitly. It is possible to construct malicious pickle data which will execute arbitrary code during unpickling (See https://github.com/pytorch/pytorch/blob/main/SECURITY.md#untrusted-models for more details). In a future release, the default value for `weights_only` will be flipped to `True`. This limits the functions that could be executed during unpickling. Arbitrary objects will no longer be allowed to be loaded via this mode unless they are explicitly allowlisted by the user via `torch.serialization.add_safe_globals`. We recommend you start setting `weights_only=True` for any use case where you don't have full control of the loaded file. Please open an issue on GitHub for any issues related to this experimental feature.\n",
      "  model = torch.load('./../models/RuleMLP//ntopfeatures/RuleMLP_catrulekit_3class_1hot_top25seed999.pt')\n"
     ]
    }
   ],
   "source": [
    "# Dataset\n",
    "torch.manual_seed(0)\n",
    "\n",
    "data_df = pd.read_csv('./../Data/1000_features_survival_3classes.csv',index_col=0).drop(['index', 'y'],axis=1)\n",
    "data_df_event_time = data_df[['event', 'time']]\n",
    "\n",
    "\n",
    "data_df = pd.get_dummies(data_df.drop(['event', 'time'], axis=1),dtype='int')\n",
    "scaler = MinMaxScaler()\n",
    "data_df = pd.DataFrame(scaler.fit_transform(data_df), columns=data_df.columns)\n",
    "data_df['event'] = [int(e) for e in data_df_event_time['event']]\n",
    "data_df['time'] = data_df_event_time['time']\n",
    "\n",
    "data_df = data_df.fillna(data_df.mean())\n",
    "\n",
    "\n",
    "train_ci_ls = []\n",
    "valid_ci_ls = []\n",
    "test_ci_ls = []\n",
    "epoch_ls = []\n",
    "elapsed_time_ls = []\n",
    "nconcepts_ls = []\n",
    "\n",
    "seeds = [999]\n",
    "test_size = 0.3\n",
    "batch_size = 64\n",
    "\n",
    "for seed in seeds:\n",
    "    print(\"*******************\")\n",
    "    print(seed)\n",
    "\n",
    "    model = torch.load('./../models/RuleMLP/ntopfeatures/RuleMLP_catrulekit_3class_1hot_top25seed'+str(seed)+'.pt')\n",
    "    model.eval()\n",
    "\n",
    "    X = torch.tensor(data_df.drop(['event', 'time'], axis=1).to_numpy(), dtype=torch.float32)\n",
    "    e = data_df['event'].to_numpy()\n",
    "    t = data_df['time'].to_numpy()\n",
    "    \n",
    "    with open('./../models/RuleMLP/ntopfeatures/catrulekit_3class_1hot_concept_weights_top25seed'+str(seed)+'.pkl','rb') as f:\n",
    "        dict_to_save = pickle.load(f)\n",
    "    f.close()\n",
    "    \n",
    "    concepts_weights_df = pd.DataFrame(dict_to_save)\n",
    "    concepts_weights_df['abs_weights'] = [np.abs(i) for i in concepts_weights_df['weights']]\n",
    "    concepts_weights_df['concepts'] = ['concept'+str(i) for i in range(len(concepts_weights_df))]\n",
    "    concepts_weights_df = concepts_weights_df.sort_values('abs_weights',ascending=False)\n",
    "    \n",
    "    feature_groups = concepts_weights_df.sort_values('abs_weights', ascending=False)['feature_groups_idx'].iloc[:5].to_list()\n",
    "            "
   ]
  },
  {
   "cell_type": "code",
   "execution_count": 8,
   "id": "8c04fde6-35a7-4ead-852b-8d773fb84806",
   "metadata": {},
   "outputs": [
    {
     "data": {
      "text/plain": [
       "[0, 3, 1, 2, 4]"
      ]
     },
     "execution_count": 8,
     "metadata": {},
     "output_type": "execute_result"
    }
   ],
   "source": [
    "concept_output, concept_fidx_ls = get_concept_layers_output(model, X, feature_groups)\n",
    "concept_output = concept_output.tolist()\n",
    "concept_fidx_ls"
   ]
  },
  {
   "cell_type": "code",
   "execution_count": 9,
   "id": "1b9fc800-63cd-4c12-92b0-f67c2018d35a",
   "metadata": {},
   "outputs": [],
   "source": [
    "ConSurv_Rule_df  = pd.DataFrame(concept_output, columns=['c'+str(i) for i in concept_fidx_ls])\n",
    "ConSurv_Rule_df['event'] = e\n",
    "ConSurv_Rule_df['time'] = t\n",
    "ConSurv_Rule_df.to_csv('./../results/Top5_Concept_op_consurvrule_top25.csv')"
   ]
  },
  {
   "cell_type": "code",
   "execution_count": null,
   "id": "005f7034-9e0a-48d6-a662-33eb8c5b6ecb",
   "metadata": {},
   "outputs": [],
   "source": []
  }
 ],
 "metadata": {
  "kernelspec": {
   "display_name": "Python 3 (ipykernel)",
   "language": "python",
   "name": "python3"
  },
  "language_info": {
   "codemirror_mode": {
    "name": "ipython",
    "version": 3
   },
   "file_extension": ".py",
   "mimetype": "text/x-python",
   "name": "python",
   "nbconvert_exporter": "python",
   "pygments_lexer": "ipython3",
   "version": "3.9.19"
  }
 },
 "nbformat": 4,
 "nbformat_minor": 5
}

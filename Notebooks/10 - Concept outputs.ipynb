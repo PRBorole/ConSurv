{
 "cells": [
  {
   "cell_type": "code",
   "execution_count": 1,
   "id": "2dfb1a46-ed62-4193-8f75-467671f6cded",
   "metadata": {},
   "outputs": [],
   "source": [
    "# import libraries\n",
    "import pandas as pd\n",
    "import matplotlib.pyplot as plt\n",
    "import numpy as np\n",
    "import time\n",
    "import sys\n",
    "import json\n",
    "import pickle\n",
    "import json\n",
    "from ast import literal_eval\n",
    "\n",
    "from tqdm import tqdm\n",
    "import itertools\n",
    "\n",
    "from sklearn.preprocessing import MultiLabelBinarizer, LabelBinarizer\n",
    "from sklearn.model_selection import train_test_split\n",
    "from sklearn.preprocessing import OrdinalEncoder, LabelEncoder\n",
    "from sklearn import metrics\n",
    "from sklearn.preprocessing import MinMaxScaler\n",
    "\n",
    "from sklearn.metrics import accuracy_score, balanced_accuracy_score, f1_score, precision_recall_curve, roc_curve, auc\n",
    "from sklearn.metrics import make_scorer, roc_auc_score\n",
    "\n",
    "from torchsurv.loss import cox\n",
    "from lifelines.utils import concordance_index\n",
    "\n",
    "sys.path.append('./../src/')\n",
    "from utils import *\n",
    "from utils_XGBMLP import *\n",
    "\n",
    "import torch\n",
    "import torch.nn as nn\n",
    "import torch.optim as optim\n",
    "from torch.utils.data import DataLoader, Dataset, TensorDataset\n"
   ]
  },
  {
   "cell_type": "markdown",
   "id": "6f5366f5-7440-41f4-baf6-9b6856c5f6c7",
   "metadata": {},
   "source": [
    "# In this notebook we obtain output of top 5 concepts for a run with seed 999\n",
    "\n",
    "We use these outputs to calculate KM plots in Figure <>\n"
   ]
  },
  {
   "cell_type": "markdown",
   "id": "0bb56153-c520-4fd8-8ff1-6d452364851f",
   "metadata": {},
   "source": [
    "### XGBoost derived concepts output"
   ]
  },
  {
   "cell_type": "code",
   "execution_count": null,
   "id": "2dff014b-aa0e-4cc6-96dc-c8c5666f5f01",
   "metadata": {},
   "outputs": [],
   "source": [
    "# Dataset\n",
    "torch.manual_seed(0)\n",
    "\n",
    "data_df = pd.read_csv('./../Data/1000_features_survival_3classes.csv',index_col=0).drop(['index', 'y'],axis=1)\n",
    "data_df_event_time = data_df[['event', 'time']]\n",
    "\n",
    "\n",
    "data_df = pd.get_dummies(data_df.drop(['event', 'time'], axis=1),dtype='int')\n",
    "scaler = MinMaxScaler()\n",
    "data_df = pd.DataFrame(scaler.fit_transform(data_df), columns=data_df.columns)\n",
    "data_df['event'] = [int(e) for e in data_df_event_time['event']]\n",
    "data_df['time'] = data_df_event_time['time']\n",
    "\n",
    "data_df = data_df.fillna(data_df.mean())\n",
    "\n",
    "\n",
    "train_ci_ls = []\n",
    "valid_ci_ls = []\n",
    "test_ci_ls = []\n",
    "epoch_ls = []\n",
    "elapsed_time_ls = []\n",
    "nconcepts_ls = []\n",
    "\n",
    "seed = 999\n",
    "test_size = 0.3\n",
    "batch_size = 64\n",
    "\n",
    "\n",
    "model = torch.load('./../models/XGBMLP/ntopfeatures/XGBMLP_top100_seed'+str(seed)+'.pt')\n",
    "model.eval()\n",
    "    \n",
    "\n",
    "X = torch.tensor(data_df.drop(['event', 'time'], axis=1).to_numpy(), dtype=torch.float32)\n",
    "e = data_df['event'].to_numpy()\n",
    "t = data_df['time'].to_numpy()\n",
    "\n",
    "with open('./../models/XGBMLP/ntopfeatures/concept_weights_top100_seed'+str(seed)+'.pkl','rb') as f:\n",
    "    dict_ = pickle.load(f)\n",
    "f.close()\n",
    "\n",
    "concepts_weights_df = pd.DataFrame(dict_)\n",
    "concepts_weights_df['abs_weights'] = [np.abs(i) for i in concepts_weights_df['weights']]\n",
    "concepts_weights_df['concepts'] = ['concept'+str(i) for i in range(len(concepts_weights_df))]\n",
    "concepts_weights_df = concepts_weights_df.sort_values('abs_weights',ascending=False)\n",
    "\n",
    "feature_groups = concepts_weights_df.sort_values('abs_weights', ascending=False)['feature_groups_idx'].iloc[:5].to_list()\n",
    "            "
   ]
  },
  {
   "cell_type": "code",
   "execution_count": 4,
   "id": "5fa359b4-6dd5-4456-8d53-ac2a5fdc5fef",
   "metadata": {},
   "outputs": [
    {
     "data": {
      "text/plain": [
       "[1, 3, 2, 4, 0]"
      ]
     },
     "execution_count": 4,
     "metadata": {},
     "output_type": "execute_result"
    }
   ],
   "source": [
    "concept_output, concept_fidx_ls = get_concept_layers_output(model, X, feature_groups)\n",
    "concept_output = concept_output.tolist()\n",
    "concept_fidx_ls"
   ]
  },
  {
   "cell_type": "code",
   "execution_count": 5,
   "id": "209f80d6-c932-4805-b7b0-683521220a6f",
   "metadata": {},
   "outputs": [],
   "source": [
    "ConSurv_XGB_df  = pd.DataFrame(concept_output, columns=['c'+str(i) for i in concept_fidx_ls])\n",
    "ConSurv_XGB_df['event'] = e\n",
    "ConSurv_XGB_df['time'] = t\n",
    "ConSurv_XGB_df.to_csv('./../results/concept_output/Top5_Concept_op_consurvxgb_top100_seed'+str(seed)+'.csv')"
   ]
  },
  {
   "cell_type": "markdown",
   "id": "99aa67ec-5c76-48a5-ba09-919a71b9e143",
   "metadata": {},
   "source": [
    "### RuleKit derived concepts output"
   ]
  },
  {
   "cell_type": "code",
   "execution_count": null,
   "id": "3a1f3a4d-3a34-4011-915d-b301a8b82d3c",
   "metadata": {},
   "outputs": [],
   "source": [
    "# Dataset\n",
    "torch.manual_seed(0)\n",
    "\n",
    "data_df = pd.read_csv('./../Data/1000_features_survival_3classes.csv',index_col=0).drop(['index', 'y'],axis=1)\n",
    "data_df_event_time = data_df[['event', 'time']]\n",
    "\n",
    "\n",
    "data_df = pd.get_dummies(data_df.drop(['event', 'time'], axis=1),dtype='int')\n",
    "scaler = MinMaxScaler()\n",
    "data_df = pd.DataFrame(scaler.fit_transform(data_df), columns=data_df.columns)\n",
    "data_df['event'] = [int(e) for e in data_df_event_time['event']]\n",
    "data_df['time'] = data_df_event_time['time']\n",
    "\n",
    "data_df = data_df.fillna(data_df.mean())\n",
    "\n",
    "\n",
    "train_ci_ls = []\n",
    "valid_ci_ls = []\n",
    "test_ci_ls = []\n",
    "epoch_ls = []\n",
    "elapsed_time_ls = []\n",
    "nconcepts_ls = []\n",
    "\n",
    "seed = 999\n",
    "test_size = 0.3\n",
    "batch_size = 64\n",
    "\n",
    "\n",
    "model = torch.load('./../models/RuleMLP/ntopfeatures/RuleMLP_catrulekit_3class_1hot_top25seed'+str(seed)+'.pt')\n",
    "model.eval()\n",
    "\n",
    "X = torch.tensor(data_df.drop(['event', 'time'], axis=1).to_numpy(), dtype=torch.float32)\n",
    "e = data_df['event'].to_numpy()\n",
    "t = data_df['time'].to_numpy()\n",
    "\n",
    "with open('./../models/RuleMLP/ntopfeatures/catrulekit_3class_1hot_concept_weights_top25seed'+str(seed)+'.pkl','rb') as f:\n",
    "    dict_ = pickle.load(f)\n",
    "f.close()\n",
    "\n",
    "concepts_weights_df = pd.DataFrame(dict_)\n",
    "concepts_weights_df['abs_weights'] = [np.abs(i) for i in concepts_weights_df['weights']]\n",
    "concepts_weights_df['concepts'] = ['concept'+str(i) for i in range(len(concepts_weights_df))]\n",
    "concepts_weights_df = concepts_weights_df.sort_values('abs_weights',ascending=False)\n",
    "\n",
    "feature_groups = concepts_weights_df.sort_values('abs_weights', ascending=False)['feature_groups_idx'].iloc[:5].to_list()\n",
    "        "
   ]
  },
  {
   "cell_type": "code",
   "execution_count": 8,
   "id": "8c04fde6-35a7-4ead-852b-8d773fb84806",
   "metadata": {},
   "outputs": [
    {
     "data": {
      "text/plain": [
       "[0, 3, 1, 2, 4]"
      ]
     },
     "execution_count": 8,
     "metadata": {},
     "output_type": "execute_result"
    }
   ],
   "source": [
    "concept_output, concept_fidx_ls = get_concept_layers_output(model, X, feature_groups)\n",
    "concept_output = concept_output.tolist()\n",
    "concept_fidx_ls"
   ]
  },
  {
   "cell_type": "code",
   "execution_count": 9,
   "id": "1b9fc800-63cd-4c12-92b0-f67c2018d35a",
   "metadata": {},
   "outputs": [],
   "source": [
    "ConSurv_Rule_df  = pd.DataFrame(concept_output, columns=['c'+str(i) for i in concept_fidx_ls])\n",
    "ConSurv_Rule_df['event'] = e\n",
    "ConSurv_Rule_df['time'] = t\n",
    "ConSurv_Rule_df.to_csv('./../results/concept_output/Top5_Concept_op_consurvrule_top25_seed'+str(seed)+'.csv')"
   ]
  },
  {
   "cell_type": "code",
   "execution_count": null,
   "id": "005f7034-9e0a-48d6-a662-33eb8c5b6ecb",
   "metadata": {},
   "outputs": [],
   "source": []
  }
 ],
 "metadata": {
  "kernelspec": {
   "display_name": "Python 3 (ipykernel)",
   "language": "python",
   "name": "python3"
  },
  "language_info": {
   "codemirror_mode": {
    "name": "ipython",
    "version": 3
   },
   "file_extension": ".py",
   "mimetype": "text/x-python",
   "name": "python",
   "nbconvert_exporter": "python",
   "pygments_lexer": "ipython3",
   "version": "3.9.19"
  }
 },
 "nbformat": 4,
 "nbformat_minor": 5
}

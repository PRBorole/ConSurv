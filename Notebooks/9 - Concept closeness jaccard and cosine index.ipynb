{
 "cells": [
  {
   "cell_type": "code",
   "execution_count": 1,
   "id": "d01759d4-7b5b-4dd2-8ff9-f3d17dbc51e9",
   "metadata": {},
   "outputs": [],
   "source": [
    "from collections import Counter\n",
    "import numpy as np\n",
    "import pandas as pd\n",
    "import itertools \n",
    "import pickle\n",
    "from ast import literal_eval\n",
    "import sys\n",
    "from tqdm import tqdm\n",
    "import seaborn as sns\n",
    "import matplotlib.pyplot as plt\n",
    "import matplotlib.gridspec as gridspec\n",
    "from collections import Counter\n",
    "from math import sqrt"
   ]
  },
  {
   "cell_type": "markdown",
   "id": "6aa90283-ca8f-4ac6-bd80-193752f7e230",
   "metadata": {},
   "source": [
    "## ConSurv-XGB - Jaccard similiarity"
   ]
  },
  {
   "cell_type": "code",
   "execution_count": 2,
   "id": "09fcb1eb-aaab-4783-b47b-3b6c1cd67951",
   "metadata": {
    "scrolled": true
   },
   "outputs": [],
   "source": [
    "seeds = [999, 7, 42, 1995, 1303, 2405, 1996, 200, 0, 777]\n",
    "tree_idx_ls = []\n",
    "tree_idx_frac_ls = []\n",
    "seeds_ls = []\n",
    "nconditions_ls = []\n",
    "topn = 100\n",
    "fontsize = 14\n",
    "\n",
    "jidx_xgb_ls = []\n",
    "\n",
    "for idx in range(len(seeds)):\n",
    "    seed1 = seeds[idx]\n",
    "    # Read concept weights from model\n",
    "    with open('./../models/XGBMLP/concept_weights_seed'+str(seed1)+'.pkl','rb') as f:\n",
    "        dict_ = pickle.load(f)\n",
    "    f.close()\n",
    "    concepts_weights_df = pd.DataFrame(dict_)\n",
    "    concepts_weights_df['abs_weights'] = [np.abs(i) for i in concepts_weights_df['weights']]\n",
    "    concepts_weights_df['concepts'] = ['concept'+str(i) for i in range(len(concepts_weights_df))]\n",
    "    concepts_weights_df = concepts_weights_df.sort_values('abs_weights',ascending=False)\n",
    "    concepts_weights_df['ranking'] = [i+1 for i in range(len(concepts_weights_df))]\n",
    "    concepts_weights_df = concepts_weights_df.iloc[:topn]\n",
    "    cls1 = concepts_weights_df['feature_groups_idx'].to_list()  \n",
    "    \n",
    "    for seed2 in seeds[idx+1:]:\n",
    "        jidx_ls_ = []\n",
    "        # Read concept weights from model\n",
    "        with open('./../models/XGBMLP/concept_weights_seed'+str(seed2)+'.pkl','rb') as f:\n",
    "            dict_ = pickle.load(f)\n",
    "        f.close()\n",
    "        concepts_weights_df = pd.DataFrame(dict_)\n",
    "        concepts_weights_df['abs_weights'] = [np.abs(i) for i in concepts_weights_df['weights']]\n",
    "        concepts_weights_df['concepts'] = ['concept'+str(i) for i in range(len(concepts_weights_df))]\n",
    "        concepts_weights_df = concepts_weights_df.sort_values('abs_weights',ascending=False)\n",
    "        concepts_weights_df['ranking'] = [i+1 for i in range(len(concepts_weights_df))]\n",
    "        concepts_weights_df = concepts_weights_df.iloc[:topn]\n",
    "        cls2 = concepts_weights_df['feature_groups_idx'].to_list()\n",
    "        \n",
    "        jidx_ls_ = [float(len(set(cls1[i]).intersection(set(cls2[j]))))/float(len(set(cls1[i]).union(set(cls2[j]))))\n",
    "                    for i in range(topn) for j in range(i+1,topn)]\n",
    "        \n",
    "        jidx_xgb_ls = jidx_xgb_ls + [jidx_ls_]\n",
    "jidx_xgb_ls\n",
    "\n",
    "with open('./../results/closeness/jidx_xgb_ls.pkl','wb') as f:\n",
    "    pickle.dump(jidx_xgb_ls,f)\n",
    "f.close()"
   ]
  },
  {
   "cell_type": "code",
   "execution_count": 3,
   "id": "9b8b1e1a-f6a5-4c20-9981-b33510d75369",
   "metadata": {},
   "outputs": [
    {
     "data": {
      "text/plain": [
       "(45, 4950)"
      ]
     },
     "execution_count": 3,
     "metadata": {},
     "output_type": "execute_result"
    }
   ],
   "source": [
    "len(jidx_xgb_ls), len(jidx_xgb_ls[0])"
   ]
  },
  {
   "cell_type": "markdown",
   "id": "615578f0-a7ee-4ef0-bb1c-b2270870dbd0",
   "metadata": {},
   "source": [
    "## ConSurv-XGB - Cosine similiarity"
   ]
  },
  {
   "cell_type": "code",
   "execution_count": 4,
   "id": "674dd360-479d-4727-a5f0-d9a96caa3c3e",
   "metadata": {
    "scrolled": true
   },
   "outputs": [],
   "source": [
    "seeds = [999, 7, 42, 1995, 1303, 2405, 1996, 200, 0, 777]\n",
    "tree_idx_ls = []\n",
    "tree_idx_frac_ls = []\n",
    "seeds_ls = []\n",
    "nconditions_ls = []\n",
    "topn = 100\n",
    "fontsize = 14\n",
    "\n",
    "cidx_xgb_ls = []\n",
    "\n",
    "for idx in range(len(seeds)):\n",
    "    seed1 = seeds[idx]\n",
    "    \n",
    "    # Read concept weights from model\n",
    "    with open('./../models/XGBMLP/concept_weights_seed'+str(seed1)+'.pkl','rb') as f:\n",
    "        dict_ = pickle.load(f)\n",
    "    f.close()\n",
    "    concepts_weights_df = pd.DataFrame(dict_)\n",
    "    concepts_weights_df['abs_weights'] = [np.abs(i) for i in concepts_weights_df['weights']]\n",
    "    concepts_weights_df['concepts'] = ['concept'+str(i) for i in range(len(concepts_weights_df))]\n",
    "    concepts_weights_df = concepts_weights_df.sort_values('abs_weights',ascending=False)\n",
    "    concepts_weights_df['ranking'] = [i+1 for i in range(len(concepts_weights_df))]\n",
    "    concepts_weights_df = concepts_weights_df.iloc[:topn]\n",
    "    cls1 = concepts_weights_df['feature_groups_idx'].to_list()  \n",
    "    \n",
    "    for seed2 in seeds[idx+1:]:\n",
    "        cidx_ls_ = []\n",
    "\n",
    "        # Read concept weights from model\n",
    "        with open('./../models/XGBMLP/concept_weights_seed'+str(seed2)+'.pkl','rb') as f:\n",
    "            dict_ = pickle.load(f)\n",
    "        f.close()\n",
    "        concepts_weights_df = pd.DataFrame(dict_)\n",
    "        concepts_weights_df['abs_weights'] = [np.abs(i) for i in concepts_weights_df['weights']]\n",
    "        concepts_weights_df['concepts'] = ['concept'+str(i) for i in range(len(concepts_weights_df))]\n",
    "        concepts_weights_df = concepts_weights_df.sort_values('abs_weights',ascending=False)\n",
    "        concepts_weights_df['ranking'] = [i+1 for i in range(len(concepts_weights_df))]\n",
    "        concepts_weights_df = concepts_weights_df.iloc[:topn]\n",
    "        cls2 = concepts_weights_df['feature_groups_idx'].to_list()\n",
    "\n",
    "        for i in range(topn):\n",
    "            for j in range(i+1,topn):\n",
    "                cls = list(set(cls1[i]+cls2[j]))\n",
    "                \n",
    "                # Create binary vectors for both sets\n",
    "                cls1_ = [1 if item in cls1[i] else 0 for item in cls]\n",
    "                cls2_ = [1 if item in cls2[j] else 0 for item in cls]\n",
    "                \n",
    "                # Compute dot product of the two vectors\n",
    "                dot_product = sum(a*b for a,b in zip(cls1_, cls2_))\n",
    "                \n",
    "                # Compute magnitudes of the vectors\n",
    "                magnitude_a = sqrt(sum(a**2 for a in cls1_))\n",
    "                magnitude_b = sqrt(sum(b**2 for b in cls2_))\n",
    "                \n",
    "                # Avoid division by zero\n",
    "                if magnitude_a == 0 or magnitude_b == 0:\n",
    "                    cidx_ls_ = cidx_ls_ + [0]\n",
    "\n",
    "                else: # Compute cosine similarity\n",
    "                    cidx_ls_ = cidx_ls_ + [dot_product / (magnitude_a * magnitude_b)]\n",
    "                        \n",
    "        cidx_xgb_ls = cidx_xgb_ls + [cidx_ls_]\n",
    "cidx_xgb_ls\n",
    "\n",
    "with open('./../results/closeness/cidx_xgb_ls.pkl','wb') as f:\n",
    "    pickle.dump(cidx_xgb_ls,f)\n",
    "f.close()"
   ]
  },
  {
   "cell_type": "code",
   "execution_count": 5,
   "id": "8dbb0f1d-f952-4915-9369-01a5468b37aa",
   "metadata": {},
   "outputs": [
    {
     "data": {
      "text/plain": [
       "(45, 4950)"
      ]
     },
     "execution_count": 5,
     "metadata": {},
     "output_type": "execute_result"
    }
   ],
   "source": [
    "len(cidx_xgb_ls), len(cidx_xgb_ls[0])"
   ]
  },
  {
   "cell_type": "markdown",
   "id": "948d77e4-6261-4e9d-acc3-9dc38f9e2321",
   "metadata": {},
   "source": [
    "## ConSurv-Rule - Jaccard similiarity"
   ]
  },
  {
   "cell_type": "code",
   "execution_count": 2,
   "id": "98488b94-1871-44fa-96cc-65a74ac09bf2",
   "metadata": {
    "scrolled": true
   },
   "outputs": [],
   "source": [
    "seeds = [999, 7, 42, 1995, 1303, 2405, 1996, 200, 0, 777]\n",
    "tree_idx_ls = []\n",
    "tree_idx_frac_ls = []\n",
    "seeds_ls = []\n",
    "nconditions_ls = []\n",
    "topn = 25\n",
    "fontsize = 14\n",
    "\n",
    "jidx_rule_ls = []\n",
    "\n",
    "for idx in range(len(seeds)):\n",
    "    seed1 = seeds[idx]\n",
    "    # Read concept weights from model\n",
    "    with open('./../models/RuleMLP/ntopfeatures/catrulekit_3class_1hot_concept_weights_top25seed'+str(seed1)+'.pkl','rb') as f:\n",
    "        dict_ = pickle.load(f)\n",
    "    f.close()\n",
    "    concepts_weights_df = pd.DataFrame(dict_)\n",
    "    concepts_weights_df['abs_weights'] = [np.abs(i) for i in concepts_weights_df['weights']]\n",
    "    concepts_weights_df['concepts'] = ['concept'+str(i) for i in range(len(concepts_weights_df))]\n",
    "    concepts_weights_df = concepts_weights_df.sort_values('abs_weights',ascending=False)\n",
    "    concepts_weights_df['ranking'] = [i+1 for i in range(len(concepts_weights_df))]\n",
    "    concepts_weights_df = concepts_weights_df.iloc[:topn]\n",
    "    cls1 = concepts_weights_df['feature_groups_idx'].to_list()  \n",
    "    \n",
    "    for seed2 in seeds[idx+1:]:\n",
    "        jidx_ls_ = []\n",
    "        # Read concept weights from model\n",
    "        with open('./../models/RuleMLP/ntopfeatures/catrulekit_3class_1hot_concept_weights_top25seed'+str(seed2)+'.pkl','rb') as f:\n",
    "            dict_ = pickle.load(f)\n",
    "        f.close()\n",
    "        concepts_weights_df = pd.DataFrame(dict_)\n",
    "        concepts_weights_df['abs_weights'] = [np.abs(i) for i in concepts_weights_df['weights']]\n",
    "        concepts_weights_df['concepts'] = ['concept'+str(i) for i in range(len(concepts_weights_df))]\n",
    "        concepts_weights_df = concepts_weights_df.sort_values('abs_weights',ascending=False)\n",
    "        concepts_weights_df['ranking'] = [i+1 for i in range(len(concepts_weights_df))]\n",
    "        concepts_weights_df = concepts_weights_df.iloc[:topn]\n",
    "        cls2 = concepts_weights_df['feature_groups_idx'].to_list()\n",
    "        \n",
    "        jidx_ls_ = [float(len(set(cls1[i]).intersection(set(cls2[j]))))/float(len(set(cls1[i]).union(set(cls2[j]))))\n",
    "                    for i in range(topn) for j in range(i+1,topn)]\n",
    "        \n",
    "        jidx_rule_ls = jidx_rule_ls + [jidx_ls_]\n",
    "jidx_rule_ls\n",
    "\n",
    "with open('./../results/closeness/jidx_rule_ls.pkl','wb') as f:\n",
    "    pickle.dump(jidx_rule_ls,f)\n",
    "f.close()"
   ]
  },
  {
   "cell_type": "code",
   "execution_count": 3,
   "id": "7dee85f6-73dd-454d-85eb-750ff0c91cae",
   "metadata": {},
   "outputs": [
    {
     "data": {
      "text/plain": [
       "(45, 300)"
      ]
     },
     "execution_count": 3,
     "metadata": {},
     "output_type": "execute_result"
    }
   ],
   "source": [
    "len(jidx_rule_ls), len(jidx_rule_ls[0])"
   ]
  },
  {
   "cell_type": "markdown",
   "id": "bebd60d3-719c-4bf6-98c1-03365d08b817",
   "metadata": {},
   "source": [
    "## ConSurv-Rule - Cosine similiarity"
   ]
  },
  {
   "cell_type": "code",
   "execution_count": 4,
   "id": "fafe88e3-c8a1-4f69-b0fa-f66153f8a76f",
   "metadata": {
    "scrolled": true
   },
   "outputs": [],
   "source": [
    "seeds = [999, 7, 42, 1995, 1303, 2405, 1996, 200, 0, 777]\n",
    "tree_idx_ls = []\n",
    "tree_idx_frac_ls = []\n",
    "seeds_ls = []\n",
    "nconditions_ls = []\n",
    "topn = 25\n",
    "fontsize = 14\n",
    "\n",
    "cidx_rule_ls = []\n",
    "\n",
    "for idx in range(len(seeds)):\n",
    "    seed1 = seeds[idx]\n",
    "    \n",
    "    # Read concept weights from model\n",
    "    with open('./../models/RuleMLP/ntopfeatures/catrulekit_3class_1hot_concept_weights_top25seed'+str(seed1)+'.pkl','rb') as f:\n",
    "        dict_ = pickle.load(f)\n",
    "    f.close()\n",
    "    concepts_weights_df = pd.DataFrame(dict_)\n",
    "    concepts_weights_df['abs_weights'] = [np.abs(i) for i in concepts_weights_df['weights']]\n",
    "    concepts_weights_df['concepts'] = ['concept'+str(i) for i in range(len(concepts_weights_df))]\n",
    "    concepts_weights_df = concepts_weights_df.sort_values('abs_weights',ascending=False)\n",
    "    concepts_weights_df['ranking'] = [i+1 for i in range(len(concepts_weights_df))]\n",
    "    concepts_weights_df = concepts_weights_df.iloc[:topn]\n",
    "    cls1 = concepts_weights_df['feature_groups_idx'].to_list()  \n",
    "    \n",
    "    for seed2 in seeds[idx+1:]:\n",
    "        cidx_ls_ = []\n",
    "\n",
    "        # Read concept weights from model\n",
    "        with open('./../models/RuleMLP/ntopfeatures/catrulekit_3class_1hot_concept_weights_top25seed'+str(seed1)+'.pkl','rb') as f:\n",
    "            dict_ = pickle.load(f)\n",
    "        f.close()\n",
    "        concepts_weights_df = pd.DataFrame(dict_)\n",
    "        concepts_weights_df['abs_weights'] = [np.abs(i) for i in concepts_weights_df['weights']]\n",
    "        concepts_weights_df['concepts'] = ['concept'+str(i) for i in range(len(concepts_weights_df))]\n",
    "        concepts_weights_df = concepts_weights_df.sort_values('abs_weights',ascending=False)\n",
    "        concepts_weights_df['ranking'] = [i+1 for i in range(len(concepts_weights_df))]\n",
    "        concepts_weights_df = concepts_weights_df.iloc[:topn]\n",
    "        cls2 = concepts_weights_df['feature_groups_idx'].to_list()\n",
    "\n",
    "        for i in range(topn):\n",
    "            for j in range(i+1,topn):\n",
    "                cls = list(set(cls1[i]+cls2[j]))\n",
    "                \n",
    "                # Create binary vectors for both sets\n",
    "                cls1_ = [1 if item in cls1[i] else 0 for item in cls]\n",
    "                cls2_ = [1 if item in cls2[j] else 0 for item in cls]\n",
    "                \n",
    "                # Compute dot product of the two vectors\n",
    "                dot_product = sum(a*b for a,b in zip(cls1_, cls2_))\n",
    "                \n",
    "                # Compute magnitudes of the vectors\n",
    "                magnitude_a = sqrt(sum(a**2 for a in cls1_))\n",
    "                magnitude_b = sqrt(sum(b**2 for b in cls2_))\n",
    "                \n",
    "                # Avoid division by zero\n",
    "                if magnitude_a == 0 or magnitude_b == 0:\n",
    "                    cidx_ls_ = cidx_ls_ + [0]\n",
    "\n",
    "                else: # Compute cosine similarity\n",
    "                    cidx_ls_ = cidx_ls_ + [dot_product / (magnitude_a * magnitude_b)]\n",
    "                        \n",
    "        cidx_rule_ls = cidx_rule_ls + [cidx_ls_]\n",
    "cidx_rule_ls\n",
    "\n",
    "with open('./../results/closeness/cidx_rule_ls.pkl','wb') as f:\n",
    "    pickle.dump(cidx_rule_ls,f)\n",
    "f.close()"
   ]
  },
  {
   "cell_type": "code",
   "execution_count": 5,
   "id": "3a3a241b-17d2-4d9e-9b4a-44f797624c23",
   "metadata": {},
   "outputs": [
    {
     "data": {
      "text/plain": [
       "(45, 300)"
      ]
     },
     "execution_count": 5,
     "metadata": {},
     "output_type": "execute_result"
    }
   ],
   "source": [
    "len(jidx_rule_ls), len(jidx_rule_ls[0])"
   ]
  },
  {
   "cell_type": "code",
   "execution_count": null,
   "id": "d38dca07-03a4-407a-a351-0c1745611b61",
   "metadata": {},
   "outputs": [],
   "source": []
  },
  {
   "cell_type": "code",
   "execution_count": null,
   "id": "82d41c2b-0fdb-4c84-b74d-c06e963f9dda",
   "metadata": {},
   "outputs": [],
   "source": []
  }
 ],
 "metadata": {
  "kernelspec": {
   "display_name": "Python 3 (ipykernel)",
   "language": "python",
   "name": "python3"
  },
  "language_info": {
   "codemirror_mode": {
    "name": "ipython",
    "version": 3
   },
   "file_extension": ".py",
   "mimetype": "text/x-python",
   "name": "python",
   "nbconvert_exporter": "python",
   "pygments_lexer": "ipython3",
   "version": "3.9.19"
  }
 },
 "nbformat": 4,
 "nbformat_minor": 5
}
